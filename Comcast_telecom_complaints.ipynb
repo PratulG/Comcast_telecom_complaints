{
  "cells": [
    {
      "cell_type": "markdown",
      "metadata": {
        "id": "view-in-github",
        "colab_type": "text"
      },
      "source": [
        "<a href=\"https://colab.research.google.com/github/PratulG/Comcast_telecom_complaints/blob/main/Comcast_telecom_complaints.ipynb\" target=\"_parent\"><img src=\"https://colab.research.google.com/assets/colab-badge.svg\" alt=\"Open In Colab\"/></a>"
      ]
    },
    {
      "cell_type": "markdown",
      "id": "ae04bb62",
      "metadata": {
        "id": "ae04bb62"
      },
      "source": [
        "# DESCRIPTION\n",
        "\n",
        "Comcast is an American global telecommunication company. The firm has been providing terrible customer service. They continue to fall short despite repeated promises to improve. Only last month (October 2016) the authority fined them a $2.3 million, after receiving over 1000 consumer complaints.\n",
        "The existing database will serve as a repository of public customer complaints filed against Comcast.\n",
        "It will help to pin down what is wrong with Comcast's customer service.\n",
        "\n",
        "Data Dictionary\n",
        "\n",
        "Ticket #: Ticket number assigned to each complaint\n",
        "Customer Complaint: Description of complaint\n",
        "Date: Date of complaint\n",
        "Time: Time of complaint\n",
        "Received Via: Mode of communication of the complaint\n",
        "City: Customer city\n",
        "State: Customer state\n",
        "Zipcode: Customer zip\n",
        "Status: Status of complaint\n",
        "Filing on behalf of someone\n",
        "Analysis Task\n",
        "\n",
        "To perform these tasks, you can use any of the different Python libraries such as NumPy, SciPy, Pandas, scikit-learn, matplotlib, and BeautifulSoup.\n",
        "\n",
        "- Import data into Python environment.\n",
        "- Provide the trend chart for the number of complaints at monthly and daily granularity levels.\n",
        "- Provide a table with the frequency of complaint types.\n",
        "\n",
        "Which complaint types are maximum i.e., around internet, network issues, or across any other domains.\n",
        "- Create a new categorical variable with value as Open and Closed. Open & Pending is to be categorized as Open and Closed & Solved is to be categorized as Closed.\n",
        "- Provide state wise status of complaints in a stacked bar chart. Use the categorized variable from Q3. Provide insights on:\n",
        "\n",
        "Which state has the maximum complaints\n",
        "Which state has the highest percentage of unresolved complaints\n",
        "- Provide the percentage of complaints resolved till date, which were received through the Internet and customer care calls.\n",
        "\n",
        "The analysis results to be provided with insights wherever applicable.\n"
      ]
    },
    {
      "cell_type": "code",
      "execution_count": null,
      "id": "0f47889f",
      "metadata": {
        "id": "0f47889f"
      },
      "outputs": [],
      "source": [
        "import pandas as pd\n",
        "import matplotlib.pyplot as plt\n",
        "import numpy as np"
      ]
    },
    {
      "cell_type": "code",
      "execution_count": null,
      "id": "38b27626",
      "metadata": {
        "id": "38b27626"
      },
      "outputs": [],
      "source": [
        "dataset = pd.read_csv('Comcast_telecom_complaints_data.csv')"
      ]
    },
    {
      "cell_type": "code",
      "execution_count": null,
      "id": "12c6392b",
      "metadata": {
        "id": "12c6392b",
        "outputId": "3a4d03e6-e4b7-4653-bb4f-92130bc24f05"
      },
      "outputs": [
        {
          "data": {
            "text/html": [
              "<div>\n",
              "<style scoped>\n",
              "    .dataframe tbody tr th:only-of-type {\n",
              "        vertical-align: middle;\n",
              "    }\n",
              "\n",
              "    .dataframe tbody tr th {\n",
              "        vertical-align: top;\n",
              "    }\n",
              "\n",
              "    .dataframe thead th {\n",
              "        text-align: right;\n",
              "    }\n",
              "</style>\n",
              "<table border=\"1\" class=\"dataframe\">\n",
              "  <thead>\n",
              "    <tr style=\"text-align: right;\">\n",
              "      <th></th>\n",
              "      <th>Ticket #</th>\n",
              "      <th>Customer Complaint</th>\n",
              "      <th>Date</th>\n",
              "      <th>Date_month_year</th>\n",
              "      <th>Time</th>\n",
              "      <th>Received Via</th>\n",
              "      <th>City</th>\n",
              "      <th>State</th>\n",
              "      <th>Zip code</th>\n",
              "      <th>Status</th>\n",
              "      <th>Filing on Behalf of Someone</th>\n",
              "    </tr>\n",
              "  </thead>\n",
              "  <tbody>\n",
              "    <tr>\n",
              "      <th>0</th>\n",
              "      <td>250635</td>\n",
              "      <td>Comcast Cable Internet Speeds</td>\n",
              "      <td>22-04-15</td>\n",
              "      <td>22-Apr-15</td>\n",
              "      <td>3:53:50 PM</td>\n",
              "      <td>Customer Care Call</td>\n",
              "      <td>Abingdon</td>\n",
              "      <td>Maryland</td>\n",
              "      <td>21009</td>\n",
              "      <td>Closed</td>\n",
              "      <td>No</td>\n",
              "    </tr>\n",
              "    <tr>\n",
              "      <th>1</th>\n",
              "      <td>223441</td>\n",
              "      <td>Payment disappear - service got disconnected</td>\n",
              "      <td>04-08-15</td>\n",
              "      <td>04-Aug-15</td>\n",
              "      <td>10:22:56 AM</td>\n",
              "      <td>Internet</td>\n",
              "      <td>Acworth</td>\n",
              "      <td>Georgia</td>\n",
              "      <td>30102</td>\n",
              "      <td>Closed</td>\n",
              "      <td>No</td>\n",
              "    </tr>\n",
              "    <tr>\n",
              "      <th>2</th>\n",
              "      <td>242732</td>\n",
              "      <td>Speed and Service</td>\n",
              "      <td>18-04-15</td>\n",
              "      <td>18-Apr-15</td>\n",
              "      <td>9:55:47 AM</td>\n",
              "      <td>Internet</td>\n",
              "      <td>Acworth</td>\n",
              "      <td>Georgia</td>\n",
              "      <td>30101</td>\n",
              "      <td>Closed</td>\n",
              "      <td>Yes</td>\n",
              "    </tr>\n",
              "    <tr>\n",
              "      <th>3</th>\n",
              "      <td>277946</td>\n",
              "      <td>Comcast Imposed a New Usage Cap of 300GB that ...</td>\n",
              "      <td>05-07-15</td>\n",
              "      <td>05-Jul-15</td>\n",
              "      <td>11:59:35 AM</td>\n",
              "      <td>Internet</td>\n",
              "      <td>Acworth</td>\n",
              "      <td>Georgia</td>\n",
              "      <td>30101</td>\n",
              "      <td>Open</td>\n",
              "      <td>Yes</td>\n",
              "    </tr>\n",
              "    <tr>\n",
              "      <th>4</th>\n",
              "      <td>307175</td>\n",
              "      <td>Comcast not working and no service to boot</td>\n",
              "      <td>26-05-15</td>\n",
              "      <td>26-May-15</td>\n",
              "      <td>1:25:26 PM</td>\n",
              "      <td>Internet</td>\n",
              "      <td>Acworth</td>\n",
              "      <td>Georgia</td>\n",
              "      <td>30101</td>\n",
              "      <td>Solved</td>\n",
              "      <td>No</td>\n",
              "    </tr>\n",
              "  </tbody>\n",
              "</table>\n",
              "</div>"
            ],
            "text/plain": [
              "  Ticket #                                 Customer Complaint      Date  \\\n",
              "0   250635                      Comcast Cable Internet Speeds  22-04-15   \n",
              "1   223441       Payment disappear - service got disconnected  04-08-15   \n",
              "2   242732                                  Speed and Service  18-04-15   \n",
              "3   277946  Comcast Imposed a New Usage Cap of 300GB that ...  05-07-15   \n",
              "4   307175         Comcast not working and no service to boot  26-05-15   \n",
              "\n",
              "  Date_month_year         Time        Received Via      City     State  \\\n",
              "0       22-Apr-15   3:53:50 PM  Customer Care Call  Abingdon  Maryland   \n",
              "1       04-Aug-15  10:22:56 AM            Internet   Acworth   Georgia   \n",
              "2       18-Apr-15   9:55:47 AM            Internet   Acworth   Georgia   \n",
              "3       05-Jul-15  11:59:35 AM            Internet   Acworth   Georgia   \n",
              "4       26-May-15   1:25:26 PM            Internet   Acworth   Georgia   \n",
              "\n",
              "   Zip code  Status Filing on Behalf of Someone  \n",
              "0     21009  Closed                          No  \n",
              "1     30102  Closed                          No  \n",
              "2     30101  Closed                         Yes  \n",
              "3     30101    Open                         Yes  \n",
              "4     30101  Solved                          No  "
            ]
          },
          "execution_count": 3,
          "metadata": {},
          "output_type": "execute_result"
        }
      ],
      "source": [
        "dataset.head()"
      ]
    },
    {
      "cell_type": "code",
      "execution_count": null,
      "id": "0e90cd2f",
      "metadata": {
        "id": "0e90cd2f",
        "outputId": "7e41caf4-3d7e-4bed-9251-d48568295e92"
      },
      "outputs": [
        {
          "data": {
            "text/plain": [
              "Ticket #                       0\n",
              "Customer Complaint             0\n",
              "Date                           0\n",
              "Date_month_year                0\n",
              "Time                           0\n",
              "Received Via                   0\n",
              "City                           0\n",
              "State                          0\n",
              "Zip code                       0\n",
              "Status                         0\n",
              "Filing on Behalf of Someone    0\n",
              "dtype: int64"
            ]
          },
          "execution_count": 4,
          "metadata": {},
          "output_type": "execute_result"
        }
      ],
      "source": [
        "dataset.isnull().sum()"
      ]
    },
    {
      "cell_type": "code",
      "execution_count": null,
      "id": "ffaef7ff",
      "metadata": {
        "id": "ffaef7ff",
        "outputId": "9c19a089-dff8-4b14-fb3c-40dc8d06c979"
      },
      "outputs": [
        {
          "data": {
            "text/plain": [
              "(2224, 11)"
            ]
          },
          "execution_count": 5,
          "metadata": {},
          "output_type": "execute_result"
        }
      ],
      "source": [
        "dataset.shape"
      ]
    },
    {
      "cell_type": "code",
      "execution_count": null,
      "id": "cff2dc0e",
      "metadata": {
        "id": "cff2dc0e"
      },
      "outputs": [],
      "source": [
        "date = dataset['Date_month_year']"
      ]
    },
    {
      "cell_type": "code",
      "execution_count": null,
      "id": "4997378d",
      "metadata": {
        "id": "4997378d",
        "outputId": "2631104e-8f8d-4bf5-d408-97ee495b8808"
      },
      "outputs": [
        {
          "data": {
            "text/plain": [
              "0       22-Apr-15\n",
              "1       04-Aug-15\n",
              "2       18-Apr-15\n",
              "3       05-Jul-15\n",
              "4       26-May-15\n",
              "          ...    \n",
              "2219    04-Feb-15\n",
              "2220    06-Feb-15\n",
              "2221    06-Sep-15\n",
              "2222    23-Jun-15\n",
              "2223    24-Jun-15\n",
              "Name: Date_month_year, Length: 2224, dtype: object"
            ]
          },
          "execution_count": 7,
          "metadata": {},
          "output_type": "execute_result"
        }
      ],
      "source": [
        "date"
      ]
    },
    {
      "cell_type": "code",
      "execution_count": null,
      "id": "9369f53c",
      "metadata": {
        "id": "9369f53c"
      },
      "outputs": [],
      "source": [
        "# Complaints\n",
        "dataset_Com = dataset[['Date_month_year','Customer Complaint']]"
      ]
    },
    {
      "cell_type": "code",
      "execution_count": null,
      "id": "48a02302",
      "metadata": {
        "id": "48a02302",
        "outputId": "2abef563-05f0-452d-a7d3-bb99d5eacaa9"
      },
      "outputs": [
        {
          "data": {
            "text/html": [
              "<div>\n",
              "<style scoped>\n",
              "    .dataframe tbody tr th:only-of-type {\n",
              "        vertical-align: middle;\n",
              "    }\n",
              "\n",
              "    .dataframe tbody tr th {\n",
              "        vertical-align: top;\n",
              "    }\n",
              "\n",
              "    .dataframe thead th {\n",
              "        text-align: right;\n",
              "    }\n",
              "</style>\n",
              "<table border=\"1\" class=\"dataframe\">\n",
              "  <thead>\n",
              "    <tr style=\"text-align: right;\">\n",
              "      <th></th>\n",
              "      <th>Date_month_year</th>\n",
              "      <th>Customer Complaint</th>\n",
              "    </tr>\n",
              "  </thead>\n",
              "  <tbody>\n",
              "    <tr>\n",
              "      <th>0</th>\n",
              "      <td>22-Apr-15</td>\n",
              "      <td>Comcast Cable Internet Speeds</td>\n",
              "    </tr>\n",
              "    <tr>\n",
              "      <th>1</th>\n",
              "      <td>04-Aug-15</td>\n",
              "      <td>Payment disappear - service got disconnected</td>\n",
              "    </tr>\n",
              "    <tr>\n",
              "      <th>2</th>\n",
              "      <td>18-Apr-15</td>\n",
              "      <td>Speed and Service</td>\n",
              "    </tr>\n",
              "    <tr>\n",
              "      <th>3</th>\n",
              "      <td>05-Jul-15</td>\n",
              "      <td>Comcast Imposed a New Usage Cap of 300GB that ...</td>\n",
              "    </tr>\n",
              "    <tr>\n",
              "      <th>4</th>\n",
              "      <td>26-May-15</td>\n",
              "      <td>Comcast not working and no service to boot</td>\n",
              "    </tr>\n",
              "    <tr>\n",
              "      <th>...</th>\n",
              "      <td>...</td>\n",
              "      <td>...</td>\n",
              "    </tr>\n",
              "    <tr>\n",
              "      <th>2219</th>\n",
              "      <td>04-Feb-15</td>\n",
              "      <td>Service Availability</td>\n",
              "    </tr>\n",
              "    <tr>\n",
              "      <th>2220</th>\n",
              "      <td>06-Feb-15</td>\n",
              "      <td>Comcast Monthly Billing for Returned Modem</td>\n",
              "    </tr>\n",
              "    <tr>\n",
              "      <th>2221</th>\n",
              "      <td>06-Sep-15</td>\n",
              "      <td>complaint about comcast</td>\n",
              "    </tr>\n",
              "    <tr>\n",
              "      <th>2222</th>\n",
              "      <td>23-Jun-15</td>\n",
              "      <td>Extremely unsatisfied Comcast customer</td>\n",
              "    </tr>\n",
              "    <tr>\n",
              "      <th>2223</th>\n",
              "      <td>24-Jun-15</td>\n",
              "      <td>Comcast, Ypsilanti MI Internet Speed</td>\n",
              "    </tr>\n",
              "  </tbody>\n",
              "</table>\n",
              "<p>2224 rows × 2 columns</p>\n",
              "</div>"
            ],
            "text/plain": [
              "     Date_month_year                                 Customer Complaint\n",
              "0          22-Apr-15                      Comcast Cable Internet Speeds\n",
              "1          04-Aug-15       Payment disappear - service got disconnected\n",
              "2          18-Apr-15                                  Speed and Service\n",
              "3          05-Jul-15  Comcast Imposed a New Usage Cap of 300GB that ...\n",
              "4          26-May-15         Comcast not working and no service to boot\n",
              "...              ...                                                ...\n",
              "2219       04-Feb-15                               Service Availability\n",
              "2220       06-Feb-15         Comcast Monthly Billing for Returned Modem\n",
              "2221       06-Sep-15                            complaint about comcast\n",
              "2222       23-Jun-15             Extremely unsatisfied Comcast customer\n",
              "2223       24-Jun-15               Comcast, Ypsilanti MI Internet Speed\n",
              "\n",
              "[2224 rows x 2 columns]"
            ]
          },
          "execution_count": 9,
          "metadata": {},
          "output_type": "execute_result"
        }
      ],
      "source": [
        "dataset_Com"
      ]
    },
    {
      "cell_type": "code",
      "execution_count": null,
      "id": "e5711196",
      "metadata": {
        "id": "e5711196",
        "outputId": "2f064e10-7182-4627-c5a8-553548ac1b99"
      },
      "outputs": [
        {
          "data": {
            "text/html": [
              "<div>\n",
              "<style scoped>\n",
              "    .dataframe tbody tr th:only-of-type {\n",
              "        vertical-align: middle;\n",
              "    }\n",
              "\n",
              "    .dataframe tbody tr th {\n",
              "        vertical-align: top;\n",
              "    }\n",
              "\n",
              "    .dataframe thead th {\n",
              "        text-align: right;\n",
              "    }\n",
              "</style>\n",
              "<table border=\"1\" class=\"dataframe\">\n",
              "  <thead>\n",
              "    <tr style=\"text-align: right;\">\n",
              "      <th></th>\n",
              "      <th>Ticket #</th>\n",
              "      <th>Customer Complaint</th>\n",
              "      <th>Date</th>\n",
              "      <th>Date_month_year</th>\n",
              "      <th>Time</th>\n",
              "      <th>Received Via</th>\n",
              "      <th>City</th>\n",
              "      <th>State</th>\n",
              "      <th>Zip code</th>\n",
              "      <th>Status</th>\n",
              "      <th>Filing on Behalf of Someone</th>\n",
              "      <th>date_index</th>\n",
              "    </tr>\n",
              "  </thead>\n",
              "  <tbody>\n",
              "    <tr>\n",
              "      <th>0</th>\n",
              "      <td>250635</td>\n",
              "      <td>Comcast Cable Internet Speeds</td>\n",
              "      <td>22-04-15</td>\n",
              "      <td>22-Apr-15</td>\n",
              "      <td>3:53:50 PM</td>\n",
              "      <td>Customer Care Call</td>\n",
              "      <td>Abingdon</td>\n",
              "      <td>Maryland</td>\n",
              "      <td>21009</td>\n",
              "      <td>Closed</td>\n",
              "      <td>No</td>\n",
              "      <td>22-Apr-15 3:53:50 PM</td>\n",
              "    </tr>\n",
              "    <tr>\n",
              "      <th>1</th>\n",
              "      <td>223441</td>\n",
              "      <td>Payment disappear - service got disconnected</td>\n",
              "      <td>04-08-15</td>\n",
              "      <td>04-Aug-15</td>\n",
              "      <td>10:22:56 AM</td>\n",
              "      <td>Internet</td>\n",
              "      <td>Acworth</td>\n",
              "      <td>Georgia</td>\n",
              "      <td>30102</td>\n",
              "      <td>Closed</td>\n",
              "      <td>No</td>\n",
              "      <td>04-Aug-15 10:22:56 AM</td>\n",
              "    </tr>\n",
              "    <tr>\n",
              "      <th>2</th>\n",
              "      <td>242732</td>\n",
              "      <td>Speed and Service</td>\n",
              "      <td>18-04-15</td>\n",
              "      <td>18-Apr-15</td>\n",
              "      <td>9:55:47 AM</td>\n",
              "      <td>Internet</td>\n",
              "      <td>Acworth</td>\n",
              "      <td>Georgia</td>\n",
              "      <td>30101</td>\n",
              "      <td>Closed</td>\n",
              "      <td>Yes</td>\n",
              "      <td>18-Apr-15 9:55:47 AM</td>\n",
              "    </tr>\n",
              "    <tr>\n",
              "      <th>3</th>\n",
              "      <td>277946</td>\n",
              "      <td>Comcast Imposed a New Usage Cap of 300GB that ...</td>\n",
              "      <td>05-07-15</td>\n",
              "      <td>05-Jul-15</td>\n",
              "      <td>11:59:35 AM</td>\n",
              "      <td>Internet</td>\n",
              "      <td>Acworth</td>\n",
              "      <td>Georgia</td>\n",
              "      <td>30101</td>\n",
              "      <td>Open</td>\n",
              "      <td>Yes</td>\n",
              "      <td>05-Jul-15 11:59:35 AM</td>\n",
              "    </tr>\n",
              "    <tr>\n",
              "      <th>4</th>\n",
              "      <td>307175</td>\n",
              "      <td>Comcast not working and no service to boot</td>\n",
              "      <td>26-05-15</td>\n",
              "      <td>26-May-15</td>\n",
              "      <td>1:25:26 PM</td>\n",
              "      <td>Internet</td>\n",
              "      <td>Acworth</td>\n",
              "      <td>Georgia</td>\n",
              "      <td>30101</td>\n",
              "      <td>Solved</td>\n",
              "      <td>No</td>\n",
              "      <td>26-May-15 1:25:26 PM</td>\n",
              "    </tr>\n",
              "  </tbody>\n",
              "</table>\n",
              "</div>"
            ],
            "text/plain": [
              "  Ticket #                                 Customer Complaint      Date  \\\n",
              "0   250635                      Comcast Cable Internet Speeds  22-04-15   \n",
              "1   223441       Payment disappear - service got disconnected  04-08-15   \n",
              "2   242732                                  Speed and Service  18-04-15   \n",
              "3   277946  Comcast Imposed a New Usage Cap of 300GB that ...  05-07-15   \n",
              "4   307175         Comcast not working and no service to boot  26-05-15   \n",
              "\n",
              "  Date_month_year         Time        Received Via      City     State  \\\n",
              "0       22-Apr-15   3:53:50 PM  Customer Care Call  Abingdon  Maryland   \n",
              "1       04-Aug-15  10:22:56 AM            Internet   Acworth   Georgia   \n",
              "2       18-Apr-15   9:55:47 AM            Internet   Acworth   Georgia   \n",
              "3       05-Jul-15  11:59:35 AM            Internet   Acworth   Georgia   \n",
              "4       26-May-15   1:25:26 PM            Internet   Acworth   Georgia   \n",
              "\n",
              "   Zip code  Status Filing on Behalf of Someone             date_index  \n",
              "0     21009  Closed                          No   22-Apr-15 3:53:50 PM  \n",
              "1     30102  Closed                          No  04-Aug-15 10:22:56 AM  \n",
              "2     30101  Closed                         Yes   18-Apr-15 9:55:47 AM  \n",
              "3     30101    Open                         Yes  05-Jul-15 11:59:35 AM  \n",
              "4     30101  Solved                          No   26-May-15 1:25:26 PM  "
            ]
          },
          "execution_count": 10,
          "metadata": {},
          "output_type": "execute_result"
        }
      ],
      "source": [
        "dataset[\"date_index\"] = dataset[\"Date_month_year\"] + \" \"+ dataset[\"Time\"]\n",
        "dataset.head()"
      ]
    },
    {
      "cell_type": "code",
      "execution_count": null,
      "id": "384cd3a8",
      "metadata": {
        "id": "384cd3a8"
      },
      "outputs": [],
      "source": [
        "dataset[\"date_index\"] = pd.to_datetime(dataset[\"date_index\"])\n",
        "dataset[\"Date_month_year\"] = pd.to_datetime(dataset[\"Date_month_year\"])"
      ]
    },
    {
      "cell_type": "code",
      "execution_count": null,
      "id": "cf0c7535",
      "metadata": {
        "id": "cf0c7535"
      },
      "outputs": [],
      "source": [
        "dataset = dataset.set_index(dataset[\"date_index\"])"
      ]
    },
    {
      "cell_type": "code",
      "execution_count": null,
      "id": "e865334b",
      "metadata": {
        "id": "e865334b",
        "outputId": "32ffc0b0-6e8d-4583-8d19-8c2f20b0e510"
      },
      "outputs": [
        {
          "data": {
            "image/png": "[encoded data removed]",
            "text/plain": [
              "<Figure size 432x288 with 1 Axes>"
            ]
          },
          "metadata": {
            "needs_background": "light"
          },
          "output_type": "display_data"
        }
      ],
      "source": [
        "dataset[\"Date_month_year\"].value_counts().plot();"
      ]
    },
    {
      "cell_type": "code",
      "execution_count": null,
      "id": "36fc73d0",
      "metadata": {
        "id": "36fc73d0",
        "outputId": "f4e541f1-cce3-4513-c6b6-64d348efb8a5"
      },
      "outputs": [
        {
          "data": {
            "text/plain": [
              "date_index\n",
              "2015-01-31     55\n",
              "2015-02-28     59\n",
              "2015-03-31     45\n",
              "2015-04-30    375\n",
              "2015-05-31    317\n",
              "Freq: M, dtype: int64"
            ]
          },
          "execution_count": 14,
          "metadata": {},
          "output_type": "execute_result"
        }
      ],
      "source": [
        "f = dataset.groupby(pd.Grouper(freq=\"M\")).size()\n",
        "f.head()"
      ]
    },
    {
      "cell_type": "code",
      "execution_count": null,
      "id": "c8c369c4",
      "metadata": {
        "id": "c8c369c4",
        "outputId": "69d18116-c21a-4aa3-bbaa-d03e830c1921"
      },
      "outputs": [
        {
          "data": {
            "text/plain": [
              "<AxesSubplot:xlabel='date_index'>"
            ]
          },
          "execution_count": 15,
          "metadata": {},
          "output_type": "execute_result"
        },
        {
          "data": {
            "image/png": "[encoded data removed]",
            "text/plain": [
              "<Figure size 432x288 with 1 Axes>"
            ]
          },
          "metadata": {
            "needs_background": "light"
          },
          "output_type": "display_data"
        }
      ],
      "source": [
        "f.plot()"
      ]
    },
    {
      "cell_type": "code",
      "execution_count": null,
      "id": "fb680a1d",
      "metadata": {
        "id": "fb680a1d",
        "outputId": "a90cd383-220d-4e87-aef1-487e76b4cffa"
      },
      "outputs": [
        {
          "data": {
            "text/plain": [
              "date_index\n",
              "2015-01-04    18\n",
              "2015-01-05    12\n",
              "2015-01-06    25\n",
              "2015-01-07     0\n",
              "2015-01-08     0\n",
              "Freq: D, dtype: int64"
            ]
          },
          "execution_count": 16,
          "metadata": {},
          "output_type": "execute_result"
        }
      ],
      "source": [
        "g = dataset.groupby(pd.Grouper(freq=\"D\")).size()\n",
        "g.head()"
      ]
    },
    {
      "cell_type": "code",
      "execution_count": null,
      "id": "306835f4",
      "metadata": {
        "id": "306835f4",
        "outputId": "59eec230-3014-436a-fe7e-678453d0252c"
      },
      "outputs": [
        {
          "data": {
            "text/plain": [
              "<AxesSubplot:xlabel='date_index'>"
            ]
          },
          "execution_count": 17,
          "metadata": {},
          "output_type": "execute_result"
        },
        {
          "data": {
            "image/png": "[encoded data removed]",
            "text/plain": [
              "<Figure size 432x288 with 1 Axes>"
            ]
          },
          "metadata": {
            "needs_background": "light"
          },
          "output_type": "display_data"
        }
      ],
      "source": [
        "g.plot()"
      ]
    },
    {
      "cell_type": "code",
      "execution_count": null,
      "id": "e81e73f8",
      "metadata": {
        "id": "e81e73f8",
        "outputId": "18fea3de-30e1-4341-d5c7-be1a3b2f0186"
      },
      "outputs": [
        {
          "data": {
            "text/html": [
              "<div>\n",
              "<style scoped>\n",
              "    .dataframe tbody tr th:only-of-type {\n",
              "        vertical-align: middle;\n",
              "    }\n",
              "\n",
              "    .dataframe tbody tr th {\n",
              "        vertical-align: top;\n",
              "    }\n",
              "\n",
              "    .dataframe thead th {\n",
              "        text-align: right;\n",
              "    }\n",
              "</style>\n",
              "<table border=\"1\" class=\"dataframe\">\n",
              "  <thead>\n",
              "    <tr style=\"text-align: right;\">\n",
              "      <th></th>\n",
              "      <th>Customer Complaint</th>\n",
              "    </tr>\n",
              "  </thead>\n",
              "  <tbody>\n",
              "    <tr>\n",
              "      <th>Comcast</th>\n",
              "      <td>83</td>\n",
              "    </tr>\n",
              "    <tr>\n",
              "      <th>Comcast Internet</th>\n",
              "      <td>18</td>\n",
              "    </tr>\n",
              "    <tr>\n",
              "      <th>Comcast Data Cap</th>\n",
              "      <td>17</td>\n",
              "    </tr>\n",
              "    <tr>\n",
              "      <th>comcast</th>\n",
              "      <td>13</td>\n",
              "    </tr>\n",
              "    <tr>\n",
              "      <th>Comcast Billing</th>\n",
              "      <td>11</td>\n",
              "    </tr>\n",
              "  </tbody>\n",
              "</table>\n",
              "</div>"
            ],
            "text/plain": [
              "                  Customer Complaint\n",
              "Comcast                           83\n",
              "Comcast Internet                  18\n",
              "Comcast Data Cap                  17\n",
              "comcast                           13\n",
              "Comcast Billing                   11"
            ]
          },
          "execution_count": 18,
          "metadata": {},
          "output_type": "execute_result"
        }
      ],
      "source": [
        "h = pd.DataFrame(dataset['Customer Complaint'].value_counts())\n",
        "h.sort_values('Customer Complaint',ascending  = False).head(5)"
      ]
    },
    {
      "cell_type": "code",
      "execution_count": null,
      "id": "4e2b0535",
      "metadata": {
        "id": "4e2b0535",
        "outputId": "df577f8c-0ea9-4132-952f-3013eedfea39"
      },
      "outputs": [
        {
          "data": {
            "text/plain": [
              "array(['Closed', 'Open', 'Solved', 'Pending'], dtype=object)"
            ]
          },
          "execution_count": 19,
          "metadata": {},
          "output_type": "execute_result"
        }
      ],
      "source": [
        "dataset.Status.unique()"
      ]
    },
    {
      "cell_type": "code",
      "execution_count": null,
      "id": "37d26d3a",
      "metadata": {
        "id": "37d26d3a"
      },
      "outputs": [],
      "source": [
        "dataset[\"newStatus\"] = [\"Open\" if Status==\"Open\" or Status==\"Pending\" else \"Closed\" for Status in dataset[\"Status\"]]"
      ]
    },
    {
      "cell_type": "code",
      "execution_count": null,
      "id": "658166a3",
      "metadata": {
        "id": "658166a3",
        "outputId": "3ee361be-923f-44fd-ce7a-29787e8d4b9f"
      },
      "outputs": [
        {
          "data": {
            "text/html": [
              "<div>\n",
              "<style scoped>\n",
              "    .dataframe tbody tr th:only-of-type {\n",
              "        vertical-align: middle;\n",
              "    }\n",
              "\n",
              "    .dataframe tbody tr th {\n",
              "        vertical-align: top;\n",
              "    }\n",
              "\n",
              "    .dataframe thead th {\n",
              "        text-align: right;\n",
              "    }\n",
              "</style>\n",
              "<table border=\"1\" class=\"dataframe\">\n",
              "  <thead>\n",
              "    <tr style=\"text-align: right;\">\n",
              "      <th></th>\n",
              "      <th>Ticket #</th>\n",
              "      <th>Customer Complaint</th>\n",
              "      <th>Date</th>\n",
              "      <th>Date_month_year</th>\n",
              "      <th>Time</th>\n",
              "      <th>Received Via</th>\n",
              "      <th>City</th>\n",
              "      <th>State</th>\n",
              "      <th>Zip code</th>\n",
              "      <th>Status</th>\n",
              "      <th>Filing on Behalf of Someone</th>\n",
              "      <th>date_index</th>\n",
              "      <th>newStatus</th>\n",
              "    </tr>\n",
              "    <tr>\n",
              "      <th>date_index</th>\n",
              "      <th></th>\n",
              "      <th></th>\n",
              "      <th></th>\n",
              "      <th></th>\n",
              "      <th></th>\n",
              "      <th></th>\n",
              "      <th></th>\n",
              "      <th></th>\n",
              "      <th></th>\n",
              "      <th></th>\n",
              "      <th></th>\n",
              "      <th></th>\n",
              "      <th></th>\n",
              "    </tr>\n",
              "  </thead>\n",
              "  <tbody>\n",
              "    <tr>\n",
              "      <th>2015-04-22 15:53:50</th>\n",
              "      <td>250635</td>\n",
              "      <td>Comcast Cable Internet Speeds</td>\n",
              "      <td>22-04-15</td>\n",
              "      <td>2015-04-22</td>\n",
              "      <td>3:53:50 PM</td>\n",
              "      <td>Customer Care Call</td>\n",
              "      <td>Abingdon</td>\n",
              "      <td>Maryland</td>\n",
              "      <td>21009</td>\n",
              "      <td>Closed</td>\n",
              "      <td>No</td>\n",
              "      <td>2015-04-22 15:53:50</td>\n",
              "      <td>Closed</td>\n",
              "    </tr>\n",
              "    <tr>\n",
              "      <th>2015-08-04 10:22:56</th>\n",
              "      <td>223441</td>\n",
              "      <td>Payment disappear - service got disconnected</td>\n",
              "      <td>04-08-15</td>\n",
              "      <td>2015-08-04</td>\n",
              "      <td>10:22:56 AM</td>\n",
              "      <td>Internet</td>\n",
              "      <td>Acworth</td>\n",
              "      <td>Georgia</td>\n",
              "      <td>30102</td>\n",
              "      <td>Closed</td>\n",
              "      <td>No</td>\n",
              "      <td>2015-08-04 10:22:56</td>\n",
              "      <td>Closed</td>\n",
              "    </tr>\n",
              "    <tr>\n",
              "      <th>2015-04-18 09:55:47</th>\n",
              "      <td>242732</td>\n",
              "      <td>Speed and Service</td>\n",
              "      <td>18-04-15</td>\n",
              "      <td>2015-04-18</td>\n",
              "      <td>9:55:47 AM</td>\n",
              "      <td>Internet</td>\n",
              "      <td>Acworth</td>\n",
              "      <td>Georgia</td>\n",
              "      <td>30101</td>\n",
              "      <td>Closed</td>\n",
              "      <td>Yes</td>\n",
              "      <td>2015-04-18 09:55:47</td>\n",
              "      <td>Closed</td>\n",
              "    </tr>\n",
              "    <tr>\n",
              "      <th>2015-07-05 11:59:35</th>\n",
              "      <td>277946</td>\n",
              "      <td>Comcast Imposed a New Usage Cap of 300GB that ...</td>\n",
              "      <td>05-07-15</td>\n",
              "      <td>2015-07-05</td>\n",
              "      <td>11:59:35 AM</td>\n",
              "      <td>Internet</td>\n",
              "      <td>Acworth</td>\n",
              "      <td>Georgia</td>\n",
              "      <td>30101</td>\n",
              "      <td>Open</td>\n",
              "      <td>Yes</td>\n",
              "      <td>2015-07-05 11:59:35</td>\n",
              "      <td>Open</td>\n",
              "    </tr>\n",
              "    <tr>\n",
              "      <th>2015-05-26 13:25:26</th>\n",
              "      <td>307175</td>\n",
              "      <td>Comcast not working and no service to boot</td>\n",
              "      <td>26-05-15</td>\n",
              "      <td>2015-05-26</td>\n",
              "      <td>1:25:26 PM</td>\n",
              "      <td>Internet</td>\n",
              "      <td>Acworth</td>\n",
              "      <td>Georgia</td>\n",
              "      <td>30101</td>\n",
              "      <td>Solved</td>\n",
              "      <td>No</td>\n",
              "      <td>2015-05-26 13:25:26</td>\n",
              "      <td>Closed</td>\n",
              "    </tr>\n",
              "    <tr>\n",
              "      <th>...</th>\n",
              "      <td>...</td>\n",
              "      <td>...</td>\n",
              "      <td>...</td>\n",
              "      <td>...</td>\n",
              "      <td>...</td>\n",
              "      <td>...</td>\n",
              "      <td>...</td>\n",
              "      <td>...</td>\n",
              "      <td>...</td>\n",
              "      <td>...</td>\n",
              "      <td>...</td>\n",
              "      <td>...</td>\n",
              "      <td>...</td>\n",
              "    </tr>\n",
              "    <tr>\n",
              "      <th>2015-02-04 09:13:18</th>\n",
              "      <td>213550</td>\n",
              "      <td>Service Availability</td>\n",
              "      <td>04-02-15</td>\n",
              "      <td>2015-02-04</td>\n",
              "      <td>9:13:18 AM</td>\n",
              "      <td>Customer Care Call</td>\n",
              "      <td>Youngstown</td>\n",
              "      <td>Florida</td>\n",
              "      <td>32466</td>\n",
              "      <td>Closed</td>\n",
              "      <td>No</td>\n",
              "      <td>2015-02-04 09:13:18</td>\n",
              "      <td>Closed</td>\n",
              "    </tr>\n",
              "    <tr>\n",
              "      <th>2015-02-06 13:24:39</th>\n",
              "      <td>318775</td>\n",
              "      <td>Comcast Monthly Billing for Returned Modem</td>\n",
              "      <td>06-02-15</td>\n",
              "      <td>2015-02-06</td>\n",
              "      <td>1:24:39 PM</td>\n",
              "      <td>Customer Care Call</td>\n",
              "      <td>Ypsilanti</td>\n",
              "      <td>Michigan</td>\n",
              "      <td>48197</td>\n",
              "      <td>Solved</td>\n",
              "      <td>No</td>\n",
              "      <td>2015-02-06 13:24:39</td>\n",
              "      <td>Closed</td>\n",
              "    </tr>\n",
              "    <tr>\n",
              "      <th>2015-09-06 17:28:41</th>\n",
              "      <td>331188</td>\n",
              "      <td>complaint about comcast</td>\n",
              "      <td>06-09-15</td>\n",
              "      <td>2015-09-06</td>\n",
              "      <td>5:28:41 PM</td>\n",
              "      <td>Internet</td>\n",
              "      <td>Ypsilanti</td>\n",
              "      <td>Michigan</td>\n",
              "      <td>48197</td>\n",
              "      <td>Solved</td>\n",
              "      <td>No</td>\n",
              "      <td>2015-09-06 17:28:41</td>\n",
              "      <td>Closed</td>\n",
              "    </tr>\n",
              "    <tr>\n",
              "      <th>2015-06-23 23:13:30</th>\n",
              "      <td>360489</td>\n",
              "      <td>Extremely unsatisfied Comcast customer</td>\n",
              "      <td>23-06-15</td>\n",
              "      <td>2015-06-23</td>\n",
              "      <td>11:13:30 PM</td>\n",
              "      <td>Customer Care Call</td>\n",
              "      <td>Ypsilanti</td>\n",
              "      <td>Michigan</td>\n",
              "      <td>48197</td>\n",
              "      <td>Solved</td>\n",
              "      <td>No</td>\n",
              "      <td>2015-06-23 23:13:30</td>\n",
              "      <td>Closed</td>\n",
              "    </tr>\n",
              "    <tr>\n",
              "      <th>2015-06-24 22:28:33</th>\n",
              "      <td>363614</td>\n",
              "      <td>Comcast, Ypsilanti MI Internet Speed</td>\n",
              "      <td>24-06-15</td>\n",
              "      <td>2015-06-24</td>\n",
              "      <td>10:28:33 PM</td>\n",
              "      <td>Customer Care Call</td>\n",
              "      <td>Ypsilanti</td>\n",
              "      <td>Michigan</td>\n",
              "      <td>48198</td>\n",
              "      <td>Open</td>\n",
              "      <td>Yes</td>\n",
              "      <td>2015-06-24 22:28:33</td>\n",
              "      <td>Open</td>\n",
              "    </tr>\n",
              "  </tbody>\n",
              "</table>\n",
              "<p>2224 rows × 13 columns</p>\n",
              "</div>"
            ],
            "text/plain": [
              "                    Ticket #  \\\n",
              "date_index                     \n",
              "2015-04-22 15:53:50   250635   \n",
              "2015-08-04 10:22:56   223441   \n",
              "2015-04-18 09:55:47   242732   \n",
              "2015-07-05 11:59:35   277946   \n",
              "2015-05-26 13:25:26   307175   \n",
              "...                      ...   \n",
              "2015-02-04 09:13:18   213550   \n",
              "2015-02-06 13:24:39   318775   \n",
              "2015-09-06 17:28:41   331188   \n",
              "2015-06-23 23:13:30   360489   \n",
              "2015-06-24 22:28:33   363614   \n",
              "\n",
              "                                                    Customer Complaint  \\\n",
              "date_index                                                               \n",
              "2015-04-22 15:53:50                      Comcast Cable Internet Speeds   \n",
              "2015-08-04 10:22:56       Payment disappear - service got disconnected   \n",
              "2015-04-18 09:55:47                                  Speed and Service   \n",
              "2015-07-05 11:59:35  Comcast Imposed a New Usage Cap of 300GB that ...   \n",
              "2015-05-26 13:25:26         Comcast not working and no service to boot   \n",
              "...                                                                ...   \n",
              "2015-02-04 09:13:18                               Service Availability   \n",
              "2015-02-06 13:24:39         Comcast Monthly Billing for Returned Modem   \n",
              "2015-09-06 17:28:41                            complaint about comcast   \n",
              "2015-06-23 23:13:30             Extremely unsatisfied Comcast customer   \n",
              "2015-06-24 22:28:33               Comcast, Ypsilanti MI Internet Speed   \n",
              "\n",
              "                         Date Date_month_year         Time  \\\n",
              "date_index                                                   \n",
              "2015-04-22 15:53:50  22-04-15      2015-04-22   3:53:50 PM   \n",
              "2015-08-04 10:22:56  04-08-15      2015-08-04  10:22:56 AM   \n",
              "2015-04-18 09:55:47  18-04-15      2015-04-18   9:55:47 AM   \n",
              "2015-07-05 11:59:35  05-07-15      2015-07-05  11:59:35 AM   \n",
              "2015-05-26 13:25:26  26-05-15      2015-05-26   1:25:26 PM   \n",
              "...                       ...             ...          ...   \n",
              "2015-02-04 09:13:18  04-02-15      2015-02-04   9:13:18 AM   \n",
              "2015-02-06 13:24:39  06-02-15      2015-02-06   1:24:39 PM   \n",
              "2015-09-06 17:28:41  06-09-15      2015-09-06   5:28:41 PM   \n",
              "2015-06-23 23:13:30  23-06-15      2015-06-23  11:13:30 PM   \n",
              "2015-06-24 22:28:33  24-06-15      2015-06-24  10:28:33 PM   \n",
              "\n",
              "                           Received Via        City     State  Zip code  \\\n",
              "date_index                                                                \n",
              "2015-04-22 15:53:50  Customer Care Call    Abingdon  Maryland     21009   \n",
              "2015-08-04 10:22:56            Internet     Acworth   Georgia     30102   \n",
              "2015-04-18 09:55:47            Internet     Acworth   Georgia     30101   \n",
              "2015-07-05 11:59:35            Internet     Acworth   Georgia     30101   \n",
              "2015-05-26 13:25:26            Internet     Acworth   Georgia     30101   \n",
              "...                                 ...         ...       ...       ...   \n",
              "2015-02-04 09:13:18  Customer Care Call  Youngstown   Florida     32466   \n",
              "2015-02-06 13:24:39  Customer Care Call   Ypsilanti  Michigan     48197   \n",
              "2015-09-06 17:28:41            Internet   Ypsilanti  Michigan     48197   \n",
              "2015-06-23 23:13:30  Customer Care Call   Ypsilanti  Michigan     48197   \n",
              "2015-06-24 22:28:33  Customer Care Call   Ypsilanti  Michigan     48198   \n",
              "\n",
              "                     Status Filing on Behalf of Someone          date_index  \\\n",
              "date_index                                                                    \n",
              "2015-04-22 15:53:50  Closed                          No 2015-04-22 15:53:50   \n",
              "2015-08-04 10:22:56  Closed                          No 2015-08-04 10:22:56   \n",
              "2015-04-18 09:55:47  Closed                         Yes 2015-04-18 09:55:47   \n",
              "2015-07-05 11:59:35    Open                         Yes 2015-07-05 11:59:35   \n",
              "2015-05-26 13:25:26  Solved                          No 2015-05-26 13:25:26   \n",
              "...                     ...                         ...                 ...   \n",
              "2015-02-04 09:13:18  Closed                          No 2015-02-04 09:13:18   \n",
              "2015-02-06 13:24:39  Solved                          No 2015-02-06 13:24:39   \n",
              "2015-09-06 17:28:41  Solved                          No 2015-09-06 17:28:41   \n",
              "2015-06-23 23:13:30  Solved                          No 2015-06-23 23:13:30   \n",
              "2015-06-24 22:28:33    Open                         Yes 2015-06-24 22:28:33   \n",
              "\n",
              "                    newStatus  \n",
              "date_index                     \n",
              "2015-04-22 15:53:50    Closed  \n",
              "2015-08-04 10:22:56    Closed  \n",
              "2015-04-18 09:55:47    Closed  \n",
              "2015-07-05 11:59:35      Open  \n",
              "2015-05-26 13:25:26    Closed  \n",
              "...                       ...  \n",
              "2015-02-04 09:13:18    Closed  \n",
              "2015-02-06 13:24:39    Closed  \n",
              "2015-09-06 17:28:41    Closed  \n",
              "2015-06-23 23:13:30    Closed  \n",
              "2015-06-24 22:28:33      Open  \n",
              "\n",
              "[2224 rows x 13 columns]"
            ]
          },
          "execution_count": 21,
          "metadata": {},
          "output_type": "execute_result"
        }
      ],
      "source": [
        "dataset"
      ]
    },
    {
      "cell_type": "code",
      "execution_count": null,
      "id": "bffe7fc9",
      "metadata": {
        "id": "bffe7fc9",
        "outputId": "6b5101de-a5d8-41da-9419-46261a4875e4"
      },
      "outputs": [
        {
          "data": {
            "text/html": [
              "<div>\n",
              "<style scoped>\n",
              "    .dataframe tbody tr th:only-of-type {\n",
              "        vertical-align: middle;\n",
              "    }\n",
              "\n",
              "    .dataframe tbody tr th {\n",
              "        vertical-align: top;\n",
              "    }\n",
              "\n",
              "    .dataframe thead th {\n",
              "        text-align: right;\n",
              "    }\n",
              "</style>\n",
              "<table border=\"1\" class=\"dataframe\">\n",
              "  <thead>\n",
              "    <tr style=\"text-align: right;\">\n",
              "      <th></th>\n",
              "      <th>State</th>\n",
              "      <th>Count</th>\n",
              "    </tr>\n",
              "  </thead>\n",
              "  <tbody>\n",
              "    <tr>\n",
              "      <th>0</th>\n",
              "      <td>Georgia</td>\n",
              "      <td>288</td>\n",
              "    </tr>\n",
              "    <tr>\n",
              "      <th>1</th>\n",
              "      <td>Florida</td>\n",
              "      <td>240</td>\n",
              "    </tr>\n",
              "    <tr>\n",
              "      <th>2</th>\n",
              "      <td>California</td>\n",
              "      <td>220</td>\n",
              "    </tr>\n",
              "    <tr>\n",
              "      <th>3</th>\n",
              "      <td>Illinois</td>\n",
              "      <td>164</td>\n",
              "    </tr>\n",
              "    <tr>\n",
              "      <th>4</th>\n",
              "      <td>Tennessee</td>\n",
              "      <td>143</td>\n",
              "    </tr>\n",
              "  </tbody>\n",
              "</table>\n",
              "</div>"
            ],
            "text/plain": [
              "        State  Count\n",
              "0     Georgia    288\n",
              "1     Florida    240\n",
              "2  California    220\n",
              "3    Illinois    164\n",
              "4   Tennessee    143"
            ]
          },
          "execution_count": 22,
          "metadata": {},
          "output_type": "execute_result"
        }
      ],
      "source": [
        "#Provide state wise status of complaints in a stacked bar chart. Use the categorized variable from Q3. Provide insights on:\n",
        "# plot bars in stack manner\n",
        "dataset.groupby([\"State\"]).size().sort_values(ascending=False).to_frame().reset_index().rename({0: \"Count\"}, axis=1)[:5]"
      ]
    },
    {
      "cell_type": "code",
      "execution_count": null,
      "id": "ce4ec3ae",
      "metadata": {
        "id": "ce4ec3ae",
        "outputId": "4771a166-3916-4fe8-eac0-b101a02cf4ca"
      },
      "outputs": [
        {
          "data": {
            "text/html": [
              "<div>\n",
              "<style scoped>\n",
              "    .dataframe tbody tr th:only-of-type {\n",
              "        vertical-align: middle;\n",
              "    }\n",
              "\n",
              "    .dataframe tbody tr th {\n",
              "        vertical-align: top;\n",
              "    }\n",
              "\n",
              "    .dataframe thead th {\n",
              "        text-align: right;\n",
              "    }\n",
              "</style>\n",
              "<table border=\"1\" class=\"dataframe\">\n",
              "  <thead>\n",
              "    <tr style=\"text-align: right;\">\n",
              "      <th></th>\n",
              "      <th>newStatus</th>\n",
              "      <th>Count</th>\n",
              "    </tr>\n",
              "  </thead>\n",
              "  <tbody>\n",
              "    <tr>\n",
              "      <th>0</th>\n",
              "      <td>Closed</td>\n",
              "      <td>1707</td>\n",
              "    </tr>\n",
              "    <tr>\n",
              "      <th>1</th>\n",
              "      <td>Open</td>\n",
              "      <td>517</td>\n",
              "    </tr>\n",
              "  </tbody>\n",
              "</table>\n",
              "</div>"
            ],
            "text/plain": [
              "  newStatus  Count\n",
              "0    Closed   1707\n",
              "1      Open    517"
            ]
          },
          "execution_count": 23,
          "metadata": {},
          "output_type": "execute_result"
        }
      ],
      "source": [
        "dataset.groupby([\"newStatus\"]).size().sort_values(ascending=False).to_frame().reset_index().rename({0: \"Count\"}, axis=1)[:5]"
      ]
    },
    {
      "cell_type": "code",
      "execution_count": null,
      "id": "bdf9df86",
      "metadata": {
        "id": "bdf9df86",
        "outputId": "b5265873-523e-4607-b9aa-39baeeeaeda2"
      },
      "outputs": [
        {
          "data": {
            "text/html": [
              "<div>\n",
              "<style scoped>\n",
              "    .dataframe tbody tr th:only-of-type {\n",
              "        vertical-align: middle;\n",
              "    }\n",
              "\n",
              "    .dataframe tbody tr th {\n",
              "        vertical-align: top;\n",
              "    }\n",
              "\n",
              "    .dataframe thead th {\n",
              "        text-align: right;\n",
              "    }\n",
              "</style>\n",
              "<table border=\"1\" class=\"dataframe\">\n",
              "  <thead>\n",
              "    <tr style=\"text-align: right;\">\n",
              "      <th>newStatus</th>\n",
              "      <th>Closed</th>\n",
              "      <th>Open</th>\n",
              "    </tr>\n",
              "    <tr>\n",
              "      <th>State</th>\n",
              "      <th></th>\n",
              "      <th></th>\n",
              "    </tr>\n",
              "  </thead>\n",
              "  <tbody>\n",
              "    <tr>\n",
              "      <th>Alabama</th>\n",
              "      <td>17.0</td>\n",
              "      <td>9.0</td>\n",
              "    </tr>\n",
              "    <tr>\n",
              "      <th>Arizona</th>\n",
              "      <td>14.0</td>\n",
              "      <td>6.0</td>\n",
              "    </tr>\n",
              "    <tr>\n",
              "      <th>Arkansas</th>\n",
              "      <td>6.0</td>\n",
              "      <td>0.0</td>\n",
              "    </tr>\n",
              "    <tr>\n",
              "      <th>California</th>\n",
              "      <td>159.0</td>\n",
              "      <td>61.0</td>\n",
              "    </tr>\n",
              "    <tr>\n",
              "      <th>Colorado</th>\n",
              "      <td>58.0</td>\n",
              "      <td>22.0</td>\n",
              "    </tr>\n",
              "    <tr>\n",
              "      <th>Connecticut</th>\n",
              "      <td>9.0</td>\n",
              "      <td>3.0</td>\n",
              "    </tr>\n",
              "    <tr>\n",
              "      <th>Delaware</th>\n",
              "      <td>8.0</td>\n",
              "      <td>4.0</td>\n",
              "    </tr>\n",
              "    <tr>\n",
              "      <th>District Of Columbia</th>\n",
              "      <td>14.0</td>\n",
              "      <td>2.0</td>\n",
              "    </tr>\n",
              "    <tr>\n",
              "      <th>District of Columbia</th>\n",
              "      <td>1.0</td>\n",
              "      <td>0.0</td>\n",
              "    </tr>\n",
              "    <tr>\n",
              "      <th>Florida</th>\n",
              "      <td>201.0</td>\n",
              "      <td>39.0</td>\n",
              "    </tr>\n",
              "    <tr>\n",
              "      <th>Georgia</th>\n",
              "      <td>208.0</td>\n",
              "      <td>80.0</td>\n",
              "    </tr>\n",
              "    <tr>\n",
              "      <th>Illinois</th>\n",
              "      <td>135.0</td>\n",
              "      <td>29.0</td>\n",
              "    </tr>\n",
              "    <tr>\n",
              "      <th>Indiana</th>\n",
              "      <td>50.0</td>\n",
              "      <td>9.0</td>\n",
              "    </tr>\n",
              "    <tr>\n",
              "      <th>Iowa</th>\n",
              "      <td>1.0</td>\n",
              "      <td>0.0</td>\n",
              "    </tr>\n",
              "    <tr>\n",
              "      <th>Kansas</th>\n",
              "      <td>1.0</td>\n",
              "      <td>1.0</td>\n",
              "    </tr>\n",
              "    <tr>\n",
              "      <th>Kentucky</th>\n",
              "      <td>4.0</td>\n",
              "      <td>3.0</td>\n",
              "    </tr>\n",
              "    <tr>\n",
              "      <th>Louisiana</th>\n",
              "      <td>12.0</td>\n",
              "      <td>1.0</td>\n",
              "    </tr>\n",
              "    <tr>\n",
              "      <th>Maine</th>\n",
              "      <td>3.0</td>\n",
              "      <td>2.0</td>\n",
              "    </tr>\n",
              "    <tr>\n",
              "      <th>Maryland</th>\n",
              "      <td>63.0</td>\n",
              "      <td>15.0</td>\n",
              "    </tr>\n",
              "    <tr>\n",
              "      <th>Massachusetts</th>\n",
              "      <td>50.0</td>\n",
              "      <td>11.0</td>\n",
              "    </tr>\n",
              "    <tr>\n",
              "      <th>Michigan</th>\n",
              "      <td>92.0</td>\n",
              "      <td>23.0</td>\n",
              "    </tr>\n",
              "    <tr>\n",
              "      <th>Minnesota</th>\n",
              "      <td>29.0</td>\n",
              "      <td>4.0</td>\n",
              "    </tr>\n",
              "    <tr>\n",
              "      <th>Mississippi</th>\n",
              "      <td>23.0</td>\n",
              "      <td>16.0</td>\n",
              "    </tr>\n",
              "    <tr>\n",
              "      <th>Missouri</th>\n",
              "      <td>3.0</td>\n",
              "      <td>1.0</td>\n",
              "    </tr>\n",
              "    <tr>\n",
              "      <th>Montana</th>\n",
              "      <td>1.0</td>\n",
              "      <td>0.0</td>\n",
              "    </tr>\n",
              "    <tr>\n",
              "      <th>Nevada</th>\n",
              "      <td>1.0</td>\n",
              "      <td>0.0</td>\n",
              "    </tr>\n",
              "    <tr>\n",
              "      <th>New Hampshire</th>\n",
              "      <td>8.0</td>\n",
              "      <td>4.0</td>\n",
              "    </tr>\n",
              "    <tr>\n",
              "      <th>New Jersey</th>\n",
              "      <td>56.0</td>\n",
              "      <td>19.0</td>\n",
              "    </tr>\n",
              "    <tr>\n",
              "      <th>New Mexico</th>\n",
              "      <td>11.0</td>\n",
              "      <td>4.0</td>\n",
              "    </tr>\n",
              "    <tr>\n",
              "      <th>New York</th>\n",
              "      <td>6.0</td>\n",
              "      <td>0.0</td>\n",
              "    </tr>\n",
              "    <tr>\n",
              "      <th>North Carolina</th>\n",
              "      <td>3.0</td>\n",
              "      <td>0.0</td>\n",
              "    </tr>\n",
              "    <tr>\n",
              "      <th>Ohio</th>\n",
              "      <td>3.0</td>\n",
              "      <td>0.0</td>\n",
              "    </tr>\n",
              "    <tr>\n",
              "      <th>Oregon</th>\n",
              "      <td>36.0</td>\n",
              "      <td>13.0</td>\n",
              "    </tr>\n",
              "    <tr>\n",
              "      <th>Pennsylvania</th>\n",
              "      <td>110.0</td>\n",
              "      <td>20.0</td>\n",
              "    </tr>\n",
              "    <tr>\n",
              "      <th>Rhode Island</th>\n",
              "      <td>1.0</td>\n",
              "      <td>0.0</td>\n",
              "    </tr>\n",
              "    <tr>\n",
              "      <th>South Carolina</th>\n",
              "      <td>15.0</td>\n",
              "      <td>3.0</td>\n",
              "    </tr>\n",
              "    <tr>\n",
              "      <th>Tennessee</th>\n",
              "      <td>96.0</td>\n",
              "      <td>47.0</td>\n",
              "    </tr>\n",
              "    <tr>\n",
              "      <th>Texas</th>\n",
              "      <td>49.0</td>\n",
              "      <td>22.0</td>\n",
              "    </tr>\n",
              "    <tr>\n",
              "      <th>Utah</th>\n",
              "      <td>16.0</td>\n",
              "      <td>6.0</td>\n",
              "    </tr>\n",
              "    <tr>\n",
              "      <th>Vermont</th>\n",
              "      <td>2.0</td>\n",
              "      <td>1.0</td>\n",
              "    </tr>\n",
              "    <tr>\n",
              "      <th>Virginia</th>\n",
              "      <td>49.0</td>\n",
              "      <td>11.0</td>\n",
              "    </tr>\n",
              "    <tr>\n",
              "      <th>Washington</th>\n",
              "      <td>75.0</td>\n",
              "      <td>23.0</td>\n",
              "    </tr>\n",
              "    <tr>\n",
              "      <th>West Virginia</th>\n",
              "      <td>8.0</td>\n",
              "      <td>3.0</td>\n",
              "    </tr>\n",
              "  </tbody>\n",
              "</table>\n",
              "</div>"
            ],
            "text/plain": [
              "newStatus             Closed  Open\n",
              "State                             \n",
              "Alabama                 17.0   9.0\n",
              "Arizona                 14.0   6.0\n",
              "Arkansas                 6.0   0.0\n",
              "California             159.0  61.0\n",
              "Colorado                58.0  22.0\n",
              "Connecticut              9.0   3.0\n",
              "Delaware                 8.0   4.0\n",
              "District Of Columbia    14.0   2.0\n",
              "District of Columbia     1.0   0.0\n",
              "Florida                201.0  39.0\n",
              "Georgia                208.0  80.0\n",
              "Illinois               135.0  29.0\n",
              "Indiana                 50.0   9.0\n",
              "Iowa                     1.0   0.0\n",
              "Kansas                   1.0   1.0\n",
              "Kentucky                 4.0   3.0\n",
              "Louisiana               12.0   1.0\n",
              "Maine                    3.0   2.0\n",
              "Maryland                63.0  15.0\n",
              "Massachusetts           50.0  11.0\n",
              "Michigan                92.0  23.0\n",
              "Minnesota               29.0   4.0\n",
              "Mississippi             23.0  16.0\n",
              "Missouri                 3.0   1.0\n",
              "Montana                  1.0   0.0\n",
              "Nevada                   1.0   0.0\n",
              "New Hampshire            8.0   4.0\n",
              "New Jersey              56.0  19.0\n",
              "New Mexico              11.0   4.0\n",
              "New York                 6.0   0.0\n",
              "North Carolina           3.0   0.0\n",
              "Ohio                     3.0   0.0\n",
              "Oregon                  36.0  13.0\n",
              "Pennsylvania           110.0  20.0\n",
              "Rhode Island             1.0   0.0\n",
              "South Carolina          15.0   3.0\n",
              "Tennessee               96.0  47.0\n",
              "Texas                   49.0  22.0\n",
              "Utah                    16.0   6.0\n",
              "Vermont                  2.0   1.0\n",
              "Virginia                49.0  11.0\n",
              "Washington              75.0  23.0\n",
              "West Virginia            8.0   3.0"
            ]
          },
          "execution_count": 24,
          "metadata": {},
          "output_type": "execute_result"
        }
      ],
      "source": [
        "i = dataset.groupby([\"State\",\"newStatus\"]).size().unstack().fillna(0)\n",
        "i"
      ]
    },
    {
      "cell_type": "code",
      "execution_count": null,
      "id": "81f23175",
      "metadata": {
        "id": "81f23175",
        "outputId": "58083c98-1717-4f79-f1e6-ad8f36fff7b0"
      },
      "outputs": [
        {
          "data": {
            "image/png": "[encoded data removed]",
            "text/plain": [
              "<Figure size 2160x3600 with 1 Axes>"
            ]
          },
          "metadata": {
            "needs_background": "light"
          },
          "output_type": "display_data"
        }
      ],
      "source": [
        "i.plot(kind=\"barh\", figsize=(30,50), stacked=True, label=['Closed','Open'], color=['red','cyan']);\n"
      ]
    },
    {
      "cell_type": "code",
      "execution_count": null,
      "id": "3acda773",
      "metadata": {
        "id": "3acda773",
        "outputId": "f2193adc-6d83-46e0-9cdb-cedd78769a59"
      },
      "outputs": [
        {
          "data": {
            "text/plain": [
              "State    West Virginia\n",
              "Count              288\n",
              "dtype: object"
            ]
          },
          "execution_count": 26,
          "metadata": {},
          "output_type": "execute_result"
        }
      ],
      "source": [
        "dataset.groupby([\"State\"]).size().sort_values(ascending=False).to_frame().reset_index().rename({0: \"Count\"}, axis=1).max()"
      ]
    },
    {
      "cell_type": "code",
      "execution_count": null,
      "id": "86c99d1e",
      "metadata": {
        "id": "86c99d1e",
        "outputId": "b363943e-dc7b-4bf3-f1b4-d431db81332e"
      },
      "outputs": [
        {
          "data": {
            "text/html": [
              "<div>\n",
              "<style scoped>\n",
              "    .dataframe tbody tr th:only-of-type {\n",
              "        vertical-align: middle;\n",
              "    }\n",
              "\n",
              "    .dataframe tbody tr th {\n",
              "        vertical-align: top;\n",
              "    }\n",
              "\n",
              "    .dataframe thead th {\n",
              "        text-align: right;\n",
              "    }\n",
              "</style>\n",
              "<table border=\"1\" class=\"dataframe\">\n",
              "  <thead>\n",
              "    <tr style=\"text-align: right;\">\n",
              "      <th></th>\n",
              "      <th>Unresolved Compliant %</th>\n",
              "    </tr>\n",
              "    <tr>\n",
              "      <th>State</th>\n",
              "      <th></th>\n",
              "    </tr>\n",
              "  </thead>\n",
              "  <tbody>\n",
              "    <tr>\n",
              "      <th>Kansas</th>\n",
              "      <td>50.0</td>\n",
              "    </tr>\n",
              "  </tbody>\n",
              "</table>\n",
              "</div>"
            ],
            "text/plain": [
              "        Unresolved Compliant %\n",
              "State                         \n",
              "Kansas                    50.0"
            ]
          },
          "execution_count": 27,
          "metadata": {},
          "output_type": "execute_result"
        }
      ],
      "source": [
        "k = dataset.groupby([\"State\",\"newStatus\"]).size().unstack().fillna(0)\n",
        "k['Unresolved Compliant %'] = (k['Open']/(k['Closed']+k['Open'])*100)\n",
        "k = k['Unresolved Compliant %'].sort_values(ascending=False)\n",
        "k.head(1).to_frame()"
      ]
    },
    {
      "cell_type": "code",
      "execution_count": null,
      "id": "abcfce54",
      "metadata": {
        "id": "abcfce54",
        "outputId": "f4764ba9-f4a2-4604-e385-da67fb981d7c"
      },
      "outputs": [
        {
          "data": {
            "text/plain": [
              "array(['Customer Care Call', 'Internet'], dtype=object)"
            ]
          },
          "execution_count": 28,
          "metadata": {},
          "output_type": "execute_result"
        }
      ],
      "source": [
        "dataset['Received Via'].unique()"
      ]
    },
    {
      "cell_type": "code",
      "execution_count": null,
      "id": "be178853",
      "metadata": {
        "id": "be178853",
        "outputId": "41bbb7dc-757b-423c-e127-0f02ec0285b4"
      },
      "outputs": [
        {
          "data": {
            "text/html": [
              "<div>\n",
              "<style scoped>\n",
              "    .dataframe tbody tr th:only-of-type {\n",
              "        vertical-align: middle;\n",
              "    }\n",
              "\n",
              "    .dataframe tbody tr th {\n",
              "        vertical-align: top;\n",
              "    }\n",
              "\n",
              "    .dataframe thead th {\n",
              "        text-align: right;\n",
              "    }\n",
              "</style>\n",
              "<table border=\"1\" class=\"dataframe\">\n",
              "  <thead>\n",
              "    <tr style=\"text-align: right;\">\n",
              "      <th></th>\n",
              "      <th>Resolved Till Date %</th>\n",
              "    </tr>\n",
              "    <tr>\n",
              "      <th>Received Via</th>\n",
              "      <th></th>\n",
              "    </tr>\n",
              "  </thead>\n",
              "  <tbody>\n",
              "    <tr>\n",
              "      <th>Customer Care Call</th>\n",
              "      <td>77.21</td>\n",
              "    </tr>\n",
              "    <tr>\n",
              "      <th>Internet</th>\n",
              "      <td>76.29</td>\n",
              "    </tr>\n",
              "  </tbody>\n",
              "</table>\n",
              "</div>"
            ],
            "text/plain": [
              "                    Resolved Till Date %\n",
              "Received Via                            \n",
              "Customer Care Call                 77.21\n",
              "Internet                           76.29"
            ]
          },
          "execution_count": 29,
          "metadata": {},
          "output_type": "execute_result"
        }
      ],
      "source": [
        "m = dataset.groupby([\"Received Via\",\"newStatus\"]).size().unstack().fillna(0)\n",
        "m['Resolved Till Date %'] = (m['Closed']/(m['Closed']+m['Open'])*100)\n",
        "m['Resolved Till Date %'].round(decimals = 2).to_frame()"
      ]
    }
  ],
  "metadata": {
    "kernelspec": {
      "display_name": "Python 3 (ipykernel)",
      "language": "python",
      "name": "python3"
    },
    "language_info": {
      "codemirror_mode": {
        "name": "ipython",
        "version": 3
      },
      "file_extension": ".py",
      "mimetype": "text/x-python",
      "name": "python",
      "nbconvert_exporter": "python",
      "pygments_lexer": "ipython3",
      "version": "3.9.7"
    },
    "colab": {
      "name": "Comcast_telecom_complaints.ipynb",
      "provenance": [],
      "include_colab_link": true
    }
  },
  "nbformat": 4,
  "nbformat_minor": 5
}